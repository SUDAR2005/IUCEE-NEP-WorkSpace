{
 "cells": [
  {
   "cell_type": "markdown",
   "metadata": {},
   "source": [
    "(1) Implement 1a, 1b, and 1c in your Jupyter notebook and submit the results"
   ]
  },
  {
   "cell_type": "markdown",
   "metadata": {},
   "source": [
    "Implementing Addition using operator"
   ]
  },
  {
   "cell_type": "code",
   "execution_count": 1,
   "metadata": {},
   "outputs": [
    {
     "name": "stdout",
     "output_type": "stream",
     "text": [
      "The sum of 7 and 9 is : 16\n"
     ]
    }
   ],
   "source": [
    "num1 = 7\n",
    "num2 = 9\n",
    "\n",
    "print(f'The sum of {num1} and {num2} is : {num1+num2}')"
   ]
  },
  {
   "cell_type": "markdown",
   "metadata": {},
   "source": [
    "Implementing addition using User Input."
   ]
  },
  {
   "cell_type": "code",
   "execution_count": 7,
   "metadata": {},
   "outputs": [
    {
     "name": "stdout",
     "output_type": "stream",
     "text": [
      "The sum of 23.0 and 21.0 is : 44.0\n"
     ]
    }
   ],
   "source": [
    "num1 = float(input(\"Enter value 1: \"))\n",
    "num2 = float(input(\"Enter value 2: \"))\n",
    "\n",
    "print(f'The sum of {num1} and {num2} is : {num1+num2}')"
   ]
  },
  {
   "cell_type": "markdown",
   "metadata": {},
   "source": [
    "Implementing addition using function call"
   ]
  },
  {
   "cell_type": "code",
   "execution_count": 4,
   "metadata": {},
   "outputs": [
    {
     "name": "stdout",
     "output_type": "stream",
     "text": [
      "The sum 5, 9 and 7 is: 21\n"
     ]
    }
   ],
   "source": [
    "def add(*args) -> int:\n",
    "        sum = 0\n",
    "        for num in args:\n",
    "                sum+=num  \n",
    "        return sum\n",
    "num1 = 5\n",
    "num2 = 9\n",
    "print(f\"The sum {num1}, {num2} and 7 is: {add(num1,num2,7)}\")"
   ]
  },
  {
   "cell_type": "markdown",
   "metadata": {},
   "source": [
    "Implementing addition using operator Library"
   ]
  },
  {
   "cell_type": "code",
   "execution_count": 6,
   "metadata": {},
   "outputs": [
    {
     "name": "stdout",
     "output_type": "stream",
     "text": [
      "The sum of 9 and 11 is: 20\n"
     ]
    }
   ],
   "source": [
    "import operator as opr\n",
    "\n",
    "num1 = 9\n",
    "num2 = 11\n",
    "\n",
    "print(f'The sum of {num1} and {num2} is: {opr.add(num1,num2)}')"
   ]
  },
  {
   "cell_type": "markdown",
   "metadata": {},
   "source": [
    "Use the following code for the function  “factorial(n)” and find the value of a = 7"
   ]
  },
  {
   "cell_type": "code",
   "execution_count": 1,
   "metadata": {},
   "outputs": [
    {
     "name": "stdout",
     "output_type": "stream",
     "text": [
      "The Factorial of 7 is: 5040\n"
     ]
    }
   ],
   "source": [
    "def factorial(num) ->int:\n",
    "    return 1 if num==0 or num ==1 else num*factorial(num-1)\n",
    "num = 7\n",
    "print(f\"The Factorial of {num} is: {factorial(num)}\")"
   ]
  }
 ],
 "metadata": {
  "kernelspec": {
   "display_name": "base",
   "language": "python",
   "name": "python3"
  },
  "language_info": {
   "codemirror_mode": {
    "name": "ipython",
    "version": 3
   },
   "file_extension": ".py",
   "mimetype": "text/x-python",
   "name": "python",
   "nbconvert_exporter": "python",
   "pygments_lexer": "ipython3",
   "version": "3.11.7"
  }
 },
 "nbformat": 4,
 "nbformat_minor": 2
}
