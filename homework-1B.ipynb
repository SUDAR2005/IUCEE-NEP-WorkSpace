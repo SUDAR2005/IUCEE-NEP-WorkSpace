{
 "cells": [
  {
   "cell_type": "markdown",
   "metadata": {},
   "source": [
    "(a) The randint( ) function is part of Python’s random module, and it is used to generate a random integer within a specified range. Here’s an example. Run this in your Jupyter notebook:\n",
    "    1. import random \n",
    "    2. number = random.randint(1, 10) \n",
    "    3. print(number) \n",
    "    4. # Output: (A random number between 1 and 10)"
   ]
  },
  {
   "cell_type": "code",
   "execution_count": 29,
   "metadata": {},
   "outputs": [
    {
     "name": "stdout",
     "output_type": "stream",
     "text": [
      "The random number is: 11\n"
     ]
    }
   ],
   "source": [
    "import random as rand\n",
    "random_number = rand.randint(1,20)\n",
    "print (f'The random number is: {random_number}')"
   ]
  },
  {
   "cell_type": "markdown",
   "metadata": {},
   "source": [
    "(b) Now replace randint() with random() and see what you get"
   ]
  },
  {
   "cell_type": "code",
   "execution_count": 22,
   "metadata": {},
   "outputs": [
    {
     "name": "stdout",
     "output_type": "stream",
     "text": [
      "The random number is: 0.17033533435477055\n"
     ]
    },
    {
     "data": {
      "text/plain": [
       "'The function random() retuned a float between 0 to 1 where as randint(a,b) returned between a to b (exclusive)'"
      ]
     },
     "execution_count": 22,
     "metadata": {},
     "output_type": "execute_result"
    }
   ],
   "source": [
    "import random as rand\n",
    "random_number = rand.random()\n",
    "print (f'The random number is: {random_number}')\n",
    "'''The function random() retuned a float between 0 to 1 where as randint(a,b) returned between a to b (exclusive)'''"
   ]
  },
  {
   "cell_type": "markdown",
   "metadata": {},
   "source": [
    " (c) Now replace replace randint() with random.uniform(1,0, 10.0)"
   ]
  },
  {
   "cell_type": "code",
   "execution_count": 30,
   "metadata": {},
   "outputs": [
    {
     "name": "stdout",
     "output_type": "stream",
     "text": [
      "The random number is: 7.86286384953689\n"
     ]
    }
   ],
   "source": [
    "import random as rand\n",
    "random_number = rand.uniform(10,1)\n",
    "print (f'The random number is: {random_number}')\n",
    "'''Returns a random float between the given inputs'''"
   ]
  },
  {
   "cell_type": "markdown",
   "metadata": {},
   "source": [
    "(d) Now try\n",
    "    1. import numpy \n",
    "    2. random_number = numpy.random.randint(1, 10) \n",
    "    3. print(random_number)"
   ]
  },
  {
   "cell_type": "code",
   "execution_count": 35,
   "metadata": {},
   "outputs": [
    {
     "name": "stdout",
     "output_type": "stream",
     "text": [
      "18\n",
      "3\n"
     ]
    }
   ],
   "source": [
    "import numpy as np\n",
    "random_number = np.random.randint(10,20)\n",
    "print(random_number)\n",
    "random_number = np.random.randint(10)\n",
    "print(random_number)"
   ]
  },
  {
   "cell_type": "markdown",
   "metadata": {},
   "source": [
    "(e) Now in (a) “forget” to import the random module and run the code. See what happens"
   ]
  },
  {
   "cell_type": "code",
   "execution_count": 36,
   "metadata": {},
   "outputs": [
    {
     "ename": "NameError",
     "evalue": "name 'random' is not defined",
     "output_type": "error",
     "traceback": [
      "\u001b[1;31m---------------------------------------------------------------------------\u001b[0m",
      "\u001b[1;31mNameError\u001b[0m                                 Traceback (most recent call last)",
      "Cell \u001b[1;32mIn[36], line 1\u001b[0m\n\u001b[1;32m----> 1\u001b[0m random_number \u001b[38;5;241m=\u001b[39m random\u001b[38;5;241m.\u001b[39mrandint(\u001b[38;5;241m1\u001b[39m,\u001b[38;5;241m20\u001b[39m)\n\u001b[0;32m      2\u001b[0m \u001b[38;5;28mprint\u001b[39m (\u001b[38;5;124mf\u001b[39m\u001b[38;5;124m'\u001b[39m\u001b[38;5;124mThe random number is: \u001b[39m\u001b[38;5;132;01m{\u001b[39;00mrandom_number\u001b[38;5;132;01m}\u001b[39;00m\u001b[38;5;124m'\u001b[39m)\n",
      "\u001b[1;31mNameError\u001b[0m: name 'random' is not defined"
     ]
    }
   ],
   "source": [
    "random_number = random.randint(1,20)\n",
    "print (f'The random number is: {random_number}')"
   ]
  }
 ],
 "metadata": {
  "kernelspec": {
   "display_name": "base",
   "language": "python",
   "name": "python3"
  },
  "language_info": {
   "codemirror_mode": {
    "name": "ipython",
    "version": 3
   },
   "file_extension": ".py",
   "mimetype": "text/x-python",
   "name": "python",
   "nbconvert_exporter": "python",
   "pygments_lexer": "ipython3",
   "version": "3.11.7"
  }
 },
 "nbformat": 4,
 "nbformat_minor": 2
}
